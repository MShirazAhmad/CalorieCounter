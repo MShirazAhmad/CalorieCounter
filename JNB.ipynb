{
 "cells": [
  {
   "cell_type": "code",
   "execution_count": null,
   "metadata": {
    "collapsed": true
   },
   "outputs": [],
   "source": [
    "import csv, pyodbc\n",
    "\n",
    "# set up some constants\n",
    "MDB = 'c:/path/to/my.mdb'\n",
    "DRV = '{Microsoft Access Driver (*.mdb)}'\n",
    "PWD = 'pw'\n",
    "\n",
    "# connect to db\n",
    "con = pyodbc.connect('DRIVER={};DBQ={};PWD={}'.format(DRV,MDB,PWD))\n",
    "cur = con.cursor()\n",
    "\n",
    "# run a query and get the results \n",
    "SQL = 'SELECT * FROM mytable;' # your query goes here\n",
    "rows = cur.execute(SQL).fetchall()\n",
    "cur.close()\n",
    "con.close()\n",
    "\n",
    "# you could change the mode from 'w' to 'a' (append) for any subsequent queries\n",
    "with open('mytable.csv', 'wb') as fou:\n",
    "    csv_writer = csv.writer(fou) # default field-delimiter is \",\"\n",
    "    csv_writer.writerows(rows)\n",
    "    "
   ]
  }
 ],
 "metadata": {
  "kernelspec": {
   "display_name": "Python 2",
   "language": "python",
   "name": "python2"
  },
  "language_info": {
   "codemirror_mode": {
    "name": "ipython",
    "version": 2
   },
   "file_extension": ".py",
   "mimetype": "text/x-python",
   "name": "python",
   "nbconvert_exporter": "python",
   "pygments_lexer": "ipython2",
   "version": "2.7.6"
  }
 },
 "nbformat": 4,
 "nbformat_minor": 0
}
